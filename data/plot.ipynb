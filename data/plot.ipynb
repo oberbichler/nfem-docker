{
  "cells": [
    {
      "cell_type": "code",
      "source": [
        "import plotly.graph_objects as go\n",
        "\n",
        "load_curve = [0, 0.1, 0.15, 0.2, 0.25, 0.3, 0.35, 0.4, 0.45, 0.5, 0.55, 0.6, 0.65, 0.7, 0.75, 0.8, 0.85, 0.9, 0.95, 1, 1.05, 1.1]\n",
        "\n",
        "fig = go.Figure({'layout':{'xaxis':{'title':{'text':'Displacement'}},'yaxis':{'title':{'text':'Lambda'}}}})\n",
        "\n",
        "fig"
      ],
      "outputs": [],
      "execution_count": null,
      "metadata": {
        "id": "ScoqwWlEvlMc",
        "colab_type": "code",
        "colab": {
          "base_uri": "https://localhost:8080/",
          "height": 542
        },
        "outputId": "f5192b86-a0d0-4660-d3bc-10406e6253e7"
      }
    }
  ],
  "metadata": {
    "colab": {
      "name": "Untitled6.ipynb",
      "provenance": []
    },
    "kernelspec": {
      "name": "python3",
      "display_name": "Python 3"
    },
    "nteract": {
      "version": "0.23.1"
    }
  },
  "nbformat": 4,
  "nbformat_minor": 0
}
